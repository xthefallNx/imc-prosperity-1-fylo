{
 "cells": [
  {
   "cell_type": "code",
   "execution_count": 14,
   "id": "c0e8ccda-796b-454c-a914-a0063b9b9302",
   "metadata": {},
   "outputs": [
    {
     "name": "stdout",
     "output_type": "stream",
     "text": [
      "[0.9648, 0.9503999999999999, 0.9536, 1]\n"
     ]
    }
   ],
   "source": [
    "matrix= {'0': [1, 1.45, 0.52, 0.72], '1': [0.7, 1, 0.31, 0.48], '2': [1.95, 3.1, 1, 1.49], '3': [1.34, 1.98, 0.64, 1]}\n",
    "anchor = '3'\n",
    "def find_max_trade_2(matrix, anchor):\n",
    "    dp = [0]*4\n",
    "    for i in range(len(dp)):\n",
    "        dp[i] = matrix[anchor][i]*matrix[str(i)][int(anchor)]\n",
    "    return dp\n",
    "    \n",
    "print(find_max_trade_2(matrix,anchor))\n",
    "    "
   ]
  },
  {
   "cell_type": "code",
   "execution_count": 43,
   "id": "f6001525-2912-42ae-9de4-1585fa2d39ce",
   "metadata": {},
   "outputs": [
    {
     "name": "stdout",
     "output_type": "stream",
     "text": [
      "[[0.9648, 0.93264, 1.038232, 0.9648], [0.9979199999999999, 0.9503999999999999, 0.914562, 0.9503999999999999], [0.8985599999999999, 0.95232, 0.9536, 0.9536], [0.9648, 0.9503999999999999, 0.9536, 1]]\n"
     ]
    }
   ],
   "source": [
    "def find_max_trade_3(matrix,anchor):\n",
    "    dp = dp = [[0 for _ in range(4)] for _ in range(4)]\n",
    "    for i in range(4):\n",
    "        for j in range(4):\n",
    "            dp[i][j] = matrix[anchor][i]*matrix[str(i)][j]*matrix[str(j)][int(anchor)]\n",
    "    return dp\n",
    "print(find_max_trade_3(matrix, anchor))"
   ]
  },
  {
   "cell_type": "code",
   "execution_count": 58,
   "id": "a5551f7c-576e-4273-81ae-d6cc394d4093",
   "metadata": {},
   "outputs": [
    {
     "name": "stdout",
     "output_type": "stream",
     "text": [
      "1.0738728\n",
      "(1.0738728, [1, 0, 2])\n"
     ]
    }
   ],
   "source": [
    "def find_max_trade_4(matrix,anchor):\n",
    "    dp = dp = [[[0 for _ in range(4)] for _ in range(4)]for _ in range(4)]\n",
    "    max_rate = 0 \n",
    "    for i in range(4):\n",
    "        for j in range(4):\n",
    "            for k in range(4):\n",
    "                dp[i][j][k] = matrix[anchor][i]*matrix[str(i)][j]*matrix[str(j)][k]*matrix[str(k)][int(anchor)]\n",
    "                max_rate = max(max_rate, dp[i][j][k])\n",
    "    index = [0,0,0]\n",
    "    for i in dp:\n",
    "        for j in i:\n",
    "            for k in j:\n",
    "                if max_rate == k:\n",
    "                    index = [i,j,k]\n",
    "                    break\n",
    "    return dp, max_rate, index\n",
    "def find_max_3d(matrix):\n",
    "    max_val = float('-inf')\n",
    "    max_idx = []\n",
    "    for i in range(len(matrix)):\n",
    "        for j in range(len(matrix[i])):\n",
    "            for k in range(len(matrix[i][j])):\n",
    "                if matrix[i][j][k] > max_val:\n",
    "                    max_val = matrix[i][j][k]\n",
    "                    max_idx = [i, j, k]\n",
    "    return max_val, max_idx\n",
    "dp, max_rate, index = find_max_trade_4(matrix,anchor)\n",
    "print(dp[1][0][2])\n",
    "print(find_max_3d(dp))"
   ]
  },
  {
   "cell_type": "code",
   "execution_count": 65,
   "id": "8e205599-9e52-44dd-b6bc-9f2ad44bb418",
   "metadata": {},
   "outputs": [
    {
     "name": "stdout",
     "output_type": "stream",
     "text": [
      "(1.08868032, [0, 2, 1, 0])\n"
     ]
    }
   ],
   "source": [
    "def find_max_trade_5(matrix,anchor):\n",
    "    dp = [[[[0 for _ in range(4)] for _ in range(4)]for _ in range(4)]for _ in range(4)]\n",
    "    for i in range(4):\n",
    "        for j in range(4):\n",
    "            for k in range(4):\n",
    "                for l in range(4):\n",
    "                    dp[i][j][k][l] = matrix[anchor][i]*matrix[str(i)][j]*matrix[str(j)][k]*matrix[str(k)][l]*matrix[str(l)][int(anchor)]\n",
    "    return dp\n",
    "dp = find_max_trade_5(matrix,anchor)\n",
    "def find_max_4d(matrix):\n",
    "    max_val = float('-inf')\n",
    "    max_idx = []\n",
    "    for i in range(len(matrix)):\n",
    "        for j in range(len(matrix[i])):\n",
    "            for k in range(len(matrix[i][j])):\n",
    "                for l in range(len(matrix[i][j][k])):\n",
    "                    if matrix[i][j][k][l] > max_val:\n",
    "                        max_val = matrix[i][j][k][l]\n",
    "                        max_idx = [i, j, k,l]\n",
    "    return max_val, max_idx\n",
    "print(find_max_4d(dp))"
   ]
  },
  {
   "cell_type": "code",
   "execution_count": null,
   "id": "7fb1f71d-ee05-4681-8086-d54e08d7ebca",
   "metadata": {},
   "outputs": [],
   "source": []
  },
  {
   "cell_type": "code",
   "execution_count": null,
   "id": "1c52d34f-47ca-47d0-8f92-61b3b250d059",
   "metadata": {},
   "outputs": [],
   "source": []
  }
 ],
 "metadata": {
  "kernelspec": {
   "display_name": "Python 3 (ipykernel)",
   "language": "python",
   "name": "python3"
  },
  "language_info": {
   "codemirror_mode": {
    "name": "ipython",
    "version": 3
   },
   "file_extension": ".py",
   "mimetype": "text/x-python",
   "name": "python",
   "nbconvert_exporter": "python",
   "pygments_lexer": "ipython3",
   "version": "3.11.5"
  }
 },
 "nbformat": 4,
 "nbformat_minor": 5
}
